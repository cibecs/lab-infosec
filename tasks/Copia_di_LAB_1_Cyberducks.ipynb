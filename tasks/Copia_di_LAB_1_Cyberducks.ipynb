{
  "cells": [
    {
      "cell_type": "markdown",
      "metadata": {
        "id": "4VbZZdP71dee"
      },
      "source": [
        "# Lab 1 - Information Security\n",
        "\n",
        "<ul>\n",
        "  <li>Andrea Andreozzi (2163406)</li>\n",
        "  <li>Riccardo Scalco (2155352)</li>\n",
        "  <li>Sergio Cibecchini (2155353)</li>\n",
        "  <li>Luca Ferrari (2166294)</li>\n",
        "</ul>"
      ]
    },
    {
      "cell_type": "markdown",
      "metadata": {
        "id": "SJN4LlYTtQHH"
      },
      "source": [
        "# Variable environment\n",
        "Fisrt of all we define some useful and we import numpy to use some useful functions with array"
      ]
    },
    {
      "cell_type": "code",
      "execution_count": 1,
      "metadata": {
        "id": "SyrjjX9LwvLd"
      },
      "outputs": [],
      "source": [
        "import numpy as np\n",
        "import random"
      ]
    },
    {
      "cell_type": "code",
      "execution_count": 2,
      "metadata": {
        "id": "fpW7gg-d0s2U"
      },
      "outputs": [],
      "source": [
        "n = 5 # number of round\n",
        "p = 11 # every number in this lab are in mod p\n",
        "multiplicative_value_of_f = 2 # number that is multiply in the substitution function of AES\n",
        "matrix_A = np.array([[2, 5], [1, 7]])\n",
        "dim = 8 # length of the key and the dimension of the squared matrix\n",
        "max_distance = 40 # max distance for brute force"
      ]
    },
    {
      "cell_type": "markdown",
      "metadata": {
        "id": "aGK2pCcjypDV"
      },
      "source": [
        "We also define a method to read the pairs plaintext-ciphertext given in a file"
      ]
    },
    {
      "cell_type": "code",
      "execution_count": 3,
      "metadata": {
        "id": "6JH3lmhPyy6O"
      },
      "outputs": [],
      "source": [
        "# Function to read plaintext-ciphertext pairs from a file\n",
        "def read_pairs_from_file(filepath):\n",
        "    # Open the file at the given filepath in read mode\n",
        "    with open(filepath, 'r') as f:\n",
        "        # Read all lines from the file, stripping whitespace and ignoring empty lines\n",
        "        lines = [line.strip() for line in f if line.strip()]\n",
        "\n",
        "    # Initialize empty lists to store plaintexts and ciphertexts\n",
        "    plaintexts, ciphertexts = [], []\n",
        "    for line in lines:\n",
        "        try:\n",
        "            # Remove square brackets from the line\n",
        "            line = line.replace('[', '').replace(']', '')\n",
        "            # Split the line into two parts: plaintext (left) and ciphertext (right)\n",
        "            left, right = line.split()  # Separate plaintext and ciphertext\n",
        "            # Convert the plaintext (left) into a NumPy array of integers\n",
        "            u = np.array(list(map(int, left.split(','))))\n",
        "            # Convert the ciphertext (right) into a NumPy array of integers\n",
        "            x = np.array(list(map(int, right.split(','))))\n",
        "            # Append the plaintext and ciphertext to their respective lists\n",
        "            plaintexts.append(u)\n",
        "            ciphertexts.append(x)\n",
        "        except Exception as e:\n",
        "            # Print an error message if there is an issue parsing the line\n",
        "            print(f\"Error parsing the line: {line}\")\n",
        "            print(e)\n",
        "    return plaintexts, ciphertexts"
      ]
    },
    {
      "cell_type": "markdown",
      "metadata": {
        "id": "FuqXb2-H0MTd"
      },
      "source": [
        "The following function is used to check if two array are equal. We will use it to check if plaintext (ciphertext) found with encryptor (decryptor) and the expected one are equal."
      ]
    },
    {
      "cell_type": "code",
      "execution_count": 4,
      "metadata": {
        "id": "LAhefT4y0mbb"
      },
      "outputs": [],
      "source": [
        "def test(result, target):\n",
        "    print(result)\n",
        "    if np.array_equal(result, target):\n",
        "        print(\"Test passed\")\n",
        "    else:\n",
        "        print(\"Test failed\")"
      ]
    },
    {
      "cell_type": "markdown",
      "metadata": {
        "id": "wKd7B2YptzIJ"
      },
      "source": [
        "# Task 1 - Simplified AES-like cipher Encryption"
      ]
    },
    {
      "cell_type": "markdown",
      "metadata": {
        "id": "ieedHNYbuT_q"
      },
      "source": [
        "This variables are used to test encryption and decryption of the first and second tasks"
      ]
    },
    {
      "cell_type": "code",
      "execution_count": 5,
      "metadata": {
        "id": "rKKpCqDTt1ZQ"
      },
      "outputs": [],
      "source": [
        "u = np.array([1, 0, 0, 0, 0, 0, 0, 0])\n",
        "k = np.array([1, 0, 0, 0, 0, 0, 0, 0])"
      ]
    },
    {
      "cell_type": "markdown",
      "metadata": {
        "id": "rdz-jl24u33C"
      },
      "source": [
        "Then we define all functions that impement the linear AES system encryption"
      ]
    },
    {
      "cell_type": "code",
      "execution_count": 6,
      "metadata": {
        "id": "IDv_FVmtvDRB"
      },
      "outputs": [],
      "source": [
        "def subkey_generation(k):\n",
        "    k1 = [k[0], k[2], k[4], k[6]]\n",
        "    k2 = [k[0], k[1], k[2], k[3]]\n",
        "    k3 = [k[0], k[3], k[4], k[7]]\n",
        "    k4 = [k[0], k[3], k[5], k[6]]\n",
        "    k5 = [k[0], k[2], k[5], k[7]]\n",
        "    k6 = [k[2], k[3], k[4], k[5]]\n",
        "    return np.array([\n",
        "        k1, k2, k3, k4, k5, k6\n",
        "    ])"
      ]
    },
    {
      "cell_type": "code",
      "execution_count": 7,
      "metadata": {
        "id": "3jp8XxTCvFvd"
      },
      "outputs": [],
      "source": [
        "def subkey_sum(w, ki):\n",
        "    subkey = np.tile(ki, 2)  # k = ki + ki\n",
        "    return (w + subkey[:len(w)]) % p"
      ]
    },
    {
      "cell_type": "code",
      "execution_count": 8,
      "metadata": {
        "id": "a6FeIjwFvI9k"
      },
      "outputs": [],
      "source": [
        "def substitution(v):\n",
        "    # f = 2*v %p\n",
        "    return (multiplicative_value_of_f * v) % p"
      ]
    },
    {
      "cell_type": "code",
      "execution_count": 9,
      "metadata": {
        "id": "s8AJBBZZvMDh"
      },
      "outputs": [],
      "source": [
        "def transposition(y):\n",
        "    # flipped the second half of vector yi\n",
        "    return np.array(y)[[0, 1, 2, 3, 7, 6, 5, 4]]"
      ]
    },
    {
      "cell_type": "code",
      "execution_count": 10,
      "metadata": {
        "id": "n0agb5HpvZH9"
      },
      "outputs": [],
      "source": [
        "def linear(z):\n",
        "    # linear transformation: write (by rows) vector z to 2 × 4 matrix Z\n",
        "    Z = z.reshape(2, 4)\n",
        "    w = (matrix_A @ Z) % p\n",
        "    return w.flatten()"
      ]
    },
    {
      "cell_type": "code",
      "execution_count": 11,
      "metadata": {
        "id": "6QbdnhRAvdY5"
      },
      "outputs": [],
      "source": [
        "def encryption(u, k):\n",
        "    subkey = subkey_generation(k)\n",
        "    w = u.copy()\n",
        "    for i in range(n):\n",
        "        v = subkey_sum(w, subkey[i])\n",
        "        y = substitution(v)\n",
        "        z = transposition(y)\n",
        "        if i != n-1:\n",
        "            w = linear(z)\n",
        "    x = subkey_sum(z, subkey[n])\n",
        "    return x"
      ]
    },
    {
      "cell_type": "markdown",
      "metadata": {
        "id": "A6onndGVv_VI"
      },
      "source": [
        "Finally we can check if the encryption method defined above is correct."
      ]
    },
    {
      "cell_type": "code",
      "execution_count": 12,
      "metadata": {
        "id": "GLnkV45lwHN8"
      },
      "outputs": [
        {
          "name": "stdout",
          "output_type": "stream",
          "text": [
            "[4 0 0 9 7 0 0 3]\n",
            "Test passed\n"
          ]
        }
      ],
      "source": [
        "x_test = [4, 0, 0, 9, 7, 0, 0, 3] # the expected result\n",
        "x = encryption(u, k)\n",
        "test(x, x_test)"
      ]
    },
    {
      "cell_type": "markdown",
      "metadata": {
        "id": "fDCqTV7pwUI1"
      },
      "source": [
        "# Task 2 - Simplified AES-like cipher: Decryption"
      ]
    },
    {
      "cell_type": "code",
      "execution_count": 13,
      "metadata": {
        "id": "5j4DPyMIweZH"
      },
      "outputs": [],
      "source": [
        "def inverse_subkey_sum(w, ki):\n",
        "    k = np.tile(ki, 2)  # k = ki + ki\n",
        "    return (w - k[:len(w)] + p) % p # I add p to avoid negative values"
      ]
    },
    {
      "cell_type": "code",
      "execution_count": 14,
      "metadata": {
        "id": "d1kXGUqLw1xu"
      },
      "outputs": [],
      "source": [
        "def inverse_substitution(v):\n",
        "    inverse_of_multiplicative_value_of_f = pow(multiplicative_value_of_f, -1, p)\n",
        "    return (v * inverse_of_multiplicative_value_of_f) % p"
      ]
    },
    {
      "cell_type": "code",
      "execution_count": 15,
      "metadata": {
        "id": "uiya4Rp3w55Y"
      },
      "outputs": [],
      "source": [
        "def inverse_transposition(y):\n",
        "    return np.array(y)[[0, 1, 2, 3, 7, 6, 5, 4]]"
      ]
    },
    {
      "cell_type": "code",
      "execution_count": 16,
      "metadata": {
        "id": "lYtAliT_w_Mp"
      },
      "outputs": [],
      "source": [
        "def modular_inverse_matrix(A):\n",
        "    det = int(np.round(np.linalg.det(A)))  # Determinante modulo p\n",
        "    det_inv = pow(det, -1, p)  # Inverso del determinante mod p\n",
        "    A_inv = np.round(det_inv * np.linalg.inv(A) * det)  # Matrice inversa mod p\n",
        "    return A_inv.astype(int) % p # Converti in interi"
      ]
    },
    {
      "cell_type": "code",
      "execution_count": 17,
      "metadata": {
        "id": "SRSwcKN7xFdM"
      },
      "outputs": [],
      "source": [
        "def inverse_linear(z):\n",
        "    A_inv = modular_inverse_matrix(matrix_A)\n",
        "    w = z.reshape(2, 4)\n",
        "    w = (A_inv @ w) % p\n",
        "    return w.flatten()"
      ]
    },
    {
      "cell_type": "code",
      "execution_count": 18,
      "metadata": {
        "id": "ou1bVkujxGdX"
      },
      "outputs": [],
      "source": [
        "def decryption(x, k):\n",
        "    subkey = subkey_generation(k)\n",
        "    w = inverse_subkey_sum(x, subkey[n])  # Annulla l'ultima somma\n",
        "    for i in range(n - 1, -1, -1):  # Decifra nei round inversi\n",
        "        z = inverse_linear(w) if i != n - 1 else w\n",
        "        y = inverse_transposition(z)\n",
        "        v = inverse_substitution(y)\n",
        "        w = inverse_subkey_sum(v, subkey[i])\n",
        "    return w.copy()"
      ]
    },
    {
      "cell_type": "markdown",
      "metadata": {
        "id": "4dDS1tKMxJjU"
      },
      "source": [
        "Then, we are able to check the encryptor function. The value of `x` is one founded in previous task."
      ]
    },
    {
      "cell_type": "code",
      "execution_count": 19,
      "metadata": {
        "id": "kWgrd2X8xI4e"
      },
      "outputs": [
        {
          "name": "stdout",
          "output_type": "stream",
          "text": [
            "[1 0 0 0 0 0 0 0]\n",
            "Test passed\n"
          ]
        }
      ],
      "source": [
        "u = decryption(x, k)\n",
        "u_test = [1, 0, 0, 0, 0, 0, 0, 0]\n",
        "test(u, u_test)"
      ]
    },
    {
      "cell_type": "markdown",
      "metadata": {
        "id": "IS3Epbbtxpif"
      },
      "source": [
        "# Task 3 - Identify the cipher vulnerability"
      ]
    },
    {
      "cell_type": "code",
      "execution_count": 20,
      "metadata": {
        "id": "w1Xd_5hixutW"
      },
      "outputs": [],
      "source": [
        "def generate_matrix_A_B():\n",
        "    # Initialize matrices A and B with zeros\n",
        "    A_matrix = np.zeros((dim, dim), dtype=int)\n",
        "    B_matrix = np.zeros((dim, dim), dtype=int)\n",
        "\n",
        "    # Compute matrix A: E(e_j, 0)\n",
        "    for j in range(dim):\n",
        "        # Create the unit vector e_j\n",
        "        e_j = np.zeros(dim, dtype=int)\n",
        "        e_j[j] = 1\n",
        "        # Use e_j as the key and a zero vector as the input\n",
        "        k = e_j\n",
        "        u = np.zeros(dim, dtype=int)\n",
        "        # Encrypt and store the result in the j-th column of A\n",
        "        A_matrix[:, j] = encryption(u, k)\n",
        "\n",
        "    # Compute matrix B: E(0, e_j)\n",
        "    for j in range(dim):\n",
        "        # Create the unit vector e_j\n",
        "        e_j = np.zeros(dim, dtype=int)\n",
        "        e_j[j] = 1\n",
        "        # Use a zero vector as the key and e_j as the input\n",
        "        k = np.zeros(dim, dtype=int)\n",
        "        u = e_j\n",
        "        # Encrypt and store the result in the j-th column of B\n",
        "        B_matrix[:, j] = encryption(u, k)\n",
        "\n",
        "    # Return the computed matrices A and B\n",
        "    return A_matrix, B_matrix"
      ]
    },
    {
      "cell_type": "code",
      "execution_count": 21,
      "metadata": {
        "id": "8nC_OTE-yJZB"
      },
      "outputs": [],
      "source": [
        "def validate_matrixs(A, B, u, k):\n",
        "    # x = E(k, u) = Ak + Bu mod p\n",
        "    x_true = encryption(u, k)\n",
        "    x_calculated = (A @ k + B @ u) % p\n",
        "\n",
        "    # Check if the encryption property holds\n",
        "    if np.array_equal(x_true, x_calculated):\n",
        "        print(\"Test passed\")\n",
        "    else:\n",
        "        print(\"Test failed\")"
      ]
    },
    {
      "cell_type": "code",
      "execution_count": 22,
      "metadata": {
        "id": "KaER90EMyMCu"
      },
      "outputs": [
        {
          "name": "stdout",
          "output_type": "stream",
          "text": [
            "Matrix A:\n",
            "[[ 9  0  1  6  0  0  1 10]\n",
            " [ 0  8  6  2  2  9  0  0]\n",
            " [ 0  6  0  8  3 10  0  0]\n",
            " [ 6  0  0  8  0  1  6  6]\n",
            " [ 2  0  1 10  0  0  1  3]\n",
            " [ 0  1  8  4  9  6  0  0]\n",
            " [ 0 10  0  5  7  6  0  0]\n",
            " [ 3  0  0  1  0  1  4  8]]\n",
            "\n",
            "Matrix B:\n",
            "[[6 0 0 3 3 0 0 0]\n",
            " [0 6 3 0 0 3 0 0]\n",
            " [0 3 6 0 0 0 3 0]\n",
            " [3 0 0 6 0 0 0 3]\n",
            " [5 0 0 0 4 0 0 8]\n",
            " [0 5 0 0 0 4 8 0]\n",
            " [0 0 5 0 0 8 4 0]\n",
            " [0 0 0 5 8 0 0 4]]\n",
            "Test passed\n"
          ]
        }
      ],
      "source": [
        "A, B = generate_matrix_A_B()\n",
        "print(\"Matrix A:\")\n",
        "print(A)\n",
        "print(\"\\nMatrix B:\")\n",
        "print(B)\n",
        "validate_matrixs(A, B, u, k)"
      ]
    },
    {
      "cell_type": "markdown",
      "metadata": {
        "id": "kQccSeC9yTuX"
      },
      "source": [
        "# Task 4 - Linear cryptanalysis KPA"
      ]
    },
    {
      "cell_type": "code",
      "execution_count": 23,
      "metadata": {
        "id": "SGb_1ZEOyaCv"
      },
      "outputs": [],
      "source": [
        "def recover_key(u, x, A, B):\n",
        "    # Compute the modular inverse of matrix A modulo p\n",
        "    A_inv = modular_inverse_matrix(A)\n",
        "    # Compute the product of matrix B and vector u modulo p\n",
        "    Bu = (B @ u)\n",
        "    # Compute the difference between the ciphertext x and Bu modulo p\n",
        "    diff = (x - Bu)\n",
        "    # Compute the key k using the formula: k = A_inv @ diff % p\n",
        "    k = (A_inv @ diff) % p\n",
        "    return k"
      ]
    },
    {
      "cell_type": "code",
      "execution_count": 24,
      "metadata": {
        "id": "4u4s3ZOLykWC"
      },
      "outputs": [],
      "source": [
        "def validateKey(plaintexts, ciphertexts, k):\n",
        "    # Iterate over all plaintext-ciphertext pairs\n",
        "    for i in range(len(plaintexts)):\n",
        "        u = plaintexts[i]\n",
        "        x = ciphertexts[i]\n",
        "        # Compute the encryption of the plaintext u using the key k\n",
        "        x_test = encryption(u, k)\n",
        "        # Check if the computed ciphertext matches the given ciphertext\n",
        "        if not np.array_equal(x, x_test):\n",
        "            print(\"Test failed at index \", i)\n",
        "            print(\"expected:\" , x , \"actual:\" , x_test)\n",
        "            return\n",
        "    print(\"Test passed\")"
      ]
    },
    {
      "cell_type": "code",
      "execution_count": 25,
      "metadata": {
        "id": "3JVtpJr8y5So"
      },
      "outputs": [
        {
          "name": "stdout",
          "output_type": "stream",
          "text": [
            "[10  4 10  2  6  7  8  2]\n",
            "Test passed\n"
          ]
        }
      ],
      "source": [
        "# Generate the matrices A and B using the function from task3\n",
        "A, B = generate_matrix_A_B()\n",
        "\n",
        "# Define the filepath to the file containing plaintext-ciphertext pairs\n",
        "filepath = \"KPApairsH_linear.txt\"\n",
        "# Read the plaintext-ciphertext pairs from the file\n",
        "plaintexts, ciphertexts = read_pairs_from_file(filepath)\n",
        "\n",
        "k = recover_key(plaintexts[0], ciphertexts[0], A, B)\n",
        "print(k)\n",
        "\n",
        "validateKey(plaintexts, ciphertexts, k)"
      ]
    },
    {
      "cell_type": "markdown",
      "metadata": {
        "id": "J3Etfe3ZzM_P"
      },
      "source": [
        "#Task 5 - “Nearly linear” simplified AES-like cipher"
      ]
    },
    {
      "cell_type": "code",
      "execution_count": 26,
      "metadata": {
        "id": "kOfyWIT7zSLT"
      },
      "outputs": [],
      "source": [
        "substitution_map = {0: 0, 1: 2, 2: 4, 3: 8, 4: 6, 5: 10, 6: 1, 7: 3, 8: 5, 9: 7, 10: 9}"
      ]
    },
    {
      "cell_type": "code",
      "execution_count": 27,
      "metadata": {
        "id": "cYBVJtnzzWI2"
      },
      "outputs": [],
      "source": [
        "def substitution_nearly_linear(v):\n",
        "    # substitution: apply substitution map to vector v\n",
        "    for i in range(len(v)):\n",
        "        v[i] = substitution_map[v[i]]\n",
        "    return v"
      ]
    },
    {
      "cell_type": "code",
      "execution_count": 28,
      "metadata": {
        "id": "iUKfp7R-zfYd"
      },
      "outputs": [],
      "source": [
        "def encryption_nearly_linear(u, k):\n",
        "    subkey = subkey_generation(k)\n",
        "    w = u.copy()\n",
        "    for i in range(n):\n",
        "        v = subkey_sum(w, subkey[i])\n",
        "        y = substitution_nearly_linear(v)\n",
        "        z = transposition(y)\n",
        "        if i != n-1:\n",
        "            w = linear(z)\n",
        "    x = subkey_sum(z, subkey[n])\n",
        "    return x"
      ]
    },
    {
      "cell_type": "code",
      "execution_count": 29,
      "metadata": {
        "id": "yqdPCcCUzuA0"
      },
      "outputs": [
        {
          "name": "stdout",
          "output_type": "stream",
          "text": [
            "[9 0 0 0 5 0 0 6]\n",
            "Test passed\n"
          ]
        }
      ],
      "source": [
        "k = [1, 0, 0, 0, 0, 0, 0, 0]\n",
        "u = [1, 0, 0, 0, 0, 0, 0, 0]\n",
        "x_test = [9, 0, 0, 0, 5, 0, 0, 6] # the expected result\n",
        "x = encryption_nearly_linear(u, k)\n",
        "test(x, x_test)"
      ]
    },
    {
      "cell_type": "markdown",
      "metadata": {
        "id": "--O8iMU-z31R"
      },
      "source": [
        "# Task 6 - Linear cryptanalysis of a “nearly linear” cipher"
      ]
    },
    {
      "cell_type": "code",
      "execution_count": 30,
      "metadata": {
        "id": "pySogv0uz9fp"
      },
      "outputs": [],
      "source": [
        "def near_keys(start_key, distance):\n",
        "    key_len = len(start_key)  # Calcolo dinamico della lunghezza\n",
        "\n",
        "    def backtrack(pos, current, remaining):\n",
        "        if pos == key_len:\n",
        "            if remaining == 0:\n",
        "                yield (start_key + np.array(current)) % p\n",
        "            return\n",
        "        for delta in range(-remaining, remaining + 1):\n",
        "            current[pos] = delta\n",
        "            yield from backtrack(pos + 1, current, remaining - abs(delta))\n",
        "\n",
        "    current = [0] * key_len\n",
        "    yield from backtrack(0, current, distance)"
      ]
    },
    {
      "cell_type": "code",
      "execution_count": 31,
      "metadata": {
        "id": "WSt8rfV81PVJ"
      },
      "outputs": [],
      "source": [
        "def key_test(k, plaintexts, ciphertexts):\n",
        "    if not np.array_equal(encryption_nearly_linear(plaintexts[0], k), ciphertexts[0]):\n",
        "        return False\n",
        "    for u, x in zip(plaintexts, ciphertexts):\n",
        "        if not np.array_equal(encryption_nearly_linear(u, k), x):\n",
        "            return False\n",
        "    return True"
      ]
    },
    {
      "cell_type": "code",
      "execution_count": null,
      "metadata": {
        "id": "6eoYjCFl1Rpf"
      },
      "outputs": [],
      "source": [
        "def brute_force(start_key, plaintexts, ciphertexts, max_distance):\n",
        "    for distance in range(1, max_distance + 1):\n",
        "        count = 0\n",
        "        print(f\"Testing keys at distance {distance}\")\n",
        "        for key in near_keys(start_key, distance):\n",
        "            count += 1\n",
        "            if key_test(key, plaintexts, ciphertexts):\n",
        "                return key\n",
        "        print(count, \"tested keys at distance\", distance)\n",
        "    return None"
      ]
    },
    {
      "cell_type": "code",
      "execution_count": 33,
      "metadata": {
        "id": "fryLH1iI1vLU"
      },
      "outputs": [],
      "source": [
        "def recover_one_key(u, x, A, B, C):\n",
        "    # Compute the modular inverse of matrix A\n",
        "    A_inv = modular_inverse_matrix(A)\n",
        "    # Compute the product of matrix B and vector u\n",
        "    Bu = (B @ u)\n",
        "    # Compute the product of matrix C and vector x\n",
        "    Cx = (C @ x)\n",
        "    # Compute the difference between the Cx and Bu\n",
        "    diff = (-Cx - Bu)\n",
        "    # Compute the key k using the formula: k = A_inv @ diff % p\n",
        "    k = (A_inv @ diff) % p\n",
        "    return k"
      ]
    },
    {
      "cell_type": "code",
      "execution_count": 34,
      "metadata": {
        "id": "LtV2di7H2c4w"
      },
      "outputs": [],
      "source": [
        "def key_approximation(A, B, C, plaintexts, ciphertexts):\n",
        "    #trovo la chiave del primo plaintext-ciphertext\n",
        "    k = []\n",
        "    for i in range(len(plaintexts)):\n",
        "        u = plaintexts[i]\n",
        "        x = ciphertexts[i]\n",
        "        k.append(recover_one_key(u, x, A, B, C))\n",
        "\n",
        "    num_keys = len(k)  # Numero di vettori in k\n",
        "    key_length = len(k[0])  # Lunghezza di ciascun vettore (8 in questo caso)\n",
        "\n",
        "    # Creiamo una lista per le medie\n",
        "    averages = []\n",
        "    # Calcoliamo la media per ogni indice j (0, 1, ..., 7)\n",
        "    for j in range(key_length):\n",
        "        avg = sum(k[i][j] for i in range(num_keys)) / num_keys\n",
        "        averages.append(round(avg))\n",
        "    return averages"
      ]
    },
    {
      "cell_type": "code",
      "execution_count": 35,
      "metadata": {
        "id": "HMxUFOZ91UYq"
      },
      "outputs": [
        {
          "name": "stdout",
          "output_type": "stream",
          "text": [
            "Testing keys at distance 1\n",
            "16 tested keys at distance 1\n",
            "Testing keys at distance 2\n",
            "128 tested keys at distance 2\n",
            "Testing keys at distance 3\n",
            "688 tested keys at distance 3\n",
            "Testing keys at distance 4\n",
            "2816 tested keys at distance 4\n",
            "Testing keys at distance 5\n",
            "9424 tested keys at distance 5\n",
            "Testing keys at distance 6\n",
            "27008 tested keys at distance 6\n",
            "Testing keys at distance 7\n",
            "68464 tested keys at distance 7\n",
            "Testing keys at distance 8\n",
            "157184 tested keys at distance 8\n",
            "Testing keys at distance 9\n",
            "332688 tested keys at distance 9\n",
            "Testing keys at distance 10\n",
            "658048 tested keys at distance 10\n",
            "Testing keys at distance 11\n",
            "1229360 tested keys at distance 11\n",
            "Testing keys at distance 12\n",
            "2187520 tested keys at distance 12\n",
            "Testing keys at distance 13\n",
            "Found key: [ 5 10  4  9  2  3  3  8]\n",
            "Found key [ 5 10  4  9  2  3  3  8]\n"
          ]
        }
      ],
      "source": [
        "filepath = \"KPApairsH_nearly_linear.txt\"\n",
        "plaintexts, ciphertexts = read_pairs_from_file(filepath)\n",
        "A, B = generate_matrix_A_B()\n",
        "C = np.identity(dim)\n",
        "key = key_approximation(A, B, C, plaintexts, ciphertexts)\n",
        "final_key = brute_force(key, plaintexts, ciphertexts, max_distance)\n",
        "if final_key is not None:\n",
        "    print(\"Found key\", final_key)\n",
        "else:\n",
        "    print(\"No valid key found\")\n"
      ]
    },
    {
      "cell_type": "markdown",
      "metadata": {
        "id": "jIwWLW052wvl"
      },
      "source": [
        "# Task 7 - Non linear simplified AES-like cipher"
      ]
    },
    {
      "cell_type": "code",
      "execution_count": 36,
      "metadata": {
        "id": "pgas9IHC14fk"
      },
      "outputs": [],
      "source": [
        "u = np.array([1, 0, 0, 0, 0, 0, 0, 0])\n",
        "k = np.array([1, 0, 0, 0])"
      ]
    },
    {
      "cell_type": "code",
      "execution_count": 37,
      "metadata": {
        "id": "fvlSXiFS25RB"
      },
      "outputs": [],
      "source": [
        "def subkey_generation_non_linear(k):\n",
        "    k1 = [k[0], k[1], k[2], k[3]]\n",
        "    k2 = [k[0], k[1], k[3], k[2]]\n",
        "    k3 = [k[1], k[2], k[3], k[0]]\n",
        "    k4 = [k[0], k[3], k[1], k[2]]\n",
        "    k5 = [k[2], k[3], k[0], k[1]]\n",
        "    k6 = [k[1], k[3], k[0], k[2]]\n",
        "    return np.array([\n",
        "        k1, k2, k3, k4, k5, k6\n",
        "    ])"
      ]
    },
    {
      "cell_type": "code",
      "execution_count": 38,
      "metadata": {
        "id": "abEoaZaJ2_HZ"
      },
      "outputs": [],
      "source": [
        "def modular_inverse(v):\n",
        "    \"\"\"Calcola l'inverso moltiplicativo modulo p per ogni elemento di v\"\"\"\n",
        "    inverses = []\n",
        "    for x in v:\n",
        "        #nel nostro caso p = 11, l'unico numero non invertibile è 0\n",
        "        if np.gcd(x, p) == 1:\n",
        "            inverses.append(pow(int(x), -1, p))\n",
        "        else:\n",
        "            inverses.append(0)\n",
        "    return np.array(inverses)"
      ]
    },
    {
      "cell_type": "code",
      "execution_count": 39,
      "metadata": {
        "id": "b0ldyoWP3CnK"
      },
      "outputs": [],
      "source": [
        "def substitution_non_linear(v):\n",
        "    v_inv = modular_inverse(v)  # Calcola l'inverso modulo p\n",
        "    return (multiplicative_value_of_f * v_inv) % p  # Applica la substitution"
      ]
    },
    {
      "cell_type": "code",
      "execution_count": 40,
      "metadata": {
        "id": "ns8O9OFO3JWJ"
      },
      "outputs": [],
      "source": [
        "def encryption_non_linear(u, k):\n",
        "    subkey = subkey_generation_non_linear(k)\n",
        "    w = u.copy()\n",
        "    for i in range(n):\n",
        "        v = subkey_sum(w, subkey[i])\n",
        "        y = substitution_non_linear(v)\n",
        "        z = transposition(y)\n",
        "        if i != n-1:\n",
        "            w = linear(z)\n",
        "    x = subkey_sum(z, subkey[n])\n",
        "    return x"
      ]
    },
    {
      "cell_type": "markdown",
      "metadata": {
        "id": "IQ9xK2vk3TbD"
      },
      "source": [
        "We also define the functions to decrypt (not required but useful for next task)."
      ]
    },
    {
      "cell_type": "code",
      "execution_count": 41,
      "metadata": {
        "id": "6VPe1HlG3a6M"
      },
      "outputs": [],
      "source": [
        "def inverse_substitution_non_linear(y):\n",
        "    y_inv = (y * pow(multiplicative_value_of_f, -1, p)) % p  # Reverse substitution step\n",
        "    return modular_inverse(y_inv)  # Apply modular inverse"
      ]
    },
    {
      "cell_type": "code",
      "execution_count": 42,
      "metadata": {
        "id": "3EFjKaVM3lwD"
      },
      "outputs": [],
      "source": [
        "def decryption_non_linear(x, k):\n",
        "    subkey = subkey_generation_non_linear(k)\n",
        "    w = inverse_subkey_sum(x, subkey[n])  # Undo the last subkey sum\n",
        "    for i in range(n - 1, -1, -1):  # Reverse the encryption rounds\n",
        "        z = inverse_linear(w) if i != n - 1 else w\n",
        "        y = inverse_transposition(z)\n",
        "        v = inverse_substitution_non_linear(y)\n",
        "        w = inverse_subkey_sum(v, subkey[i])\n",
        "    return w.copy()"
      ]
    },
    {
      "cell_type": "code",
      "execution_count": 43,
      "metadata": {
        "id": "gRfNpLcY3uTl"
      },
      "outputs": [
        {
          "name": "stdout",
          "output_type": "stream",
          "text": [
            "[5 0 3 2 5 2 1 1]\n",
            "Test passed\n",
            "[1 0 0 0 0 0 0 0]\n",
            "Test passed\n"
          ]
        }
      ],
      "source": [
        "x_test = [5, 0, 3, 2, 5, 2, 1, 1]\n",
        "x = encryption_non_linear(u, k)\n",
        "test(x, x_test)\n",
        "u = decryption_non_linear(x, k)\n",
        "test(u, u_test)"
      ]
    },
    {
      "cell_type": "markdown",
      "metadata": {
        "id": "IYWJmfOV4BX9"
      },
      "source": [
        "# Task 8 - Meet in the middle attack"
      ]
    },
    {
      "cell_type": "code",
      "execution_count": 44,
      "metadata": {
        "id": "ZjNpfeh04E8Q"
      },
      "outputs": [],
      "source": [
        "dim = 4\n",
        "n_guesses = 50000"
      ]
    },
    {
      "cell_type": "code",
      "execution_count": 45,
      "metadata": {
        "id": "AQTprTOa4K3h"
      },
      "outputs": [],
      "source": [
        "def generate_random_key(dim, p):\n",
        "    return np.array([random.randint(0, p-1) for _ in range(dim)])"
      ]
    },
    {
      "cell_type": "code",
      "execution_count": 46,
      "metadata": {
        "id": "AXZVTgdJ4NHP"
      },
      "outputs": [],
      "source": [
        "def generate_key_guesses(n_guesses):\n",
        "    key_prime = [generate_random_key(dim, p) for _ in range(n_guesses)]\n",
        "    key_second = [generate_random_key(dim, p) for _ in range(n_guesses)]\n",
        "    return key_prime, key_second"
      ]
    },
    {
      "cell_type": "code",
      "execution_count": 47,
      "metadata": {
        "id": "LzDqAMl94V3k"
      },
      "outputs": [],
      "source": [
        "def generate_plaintext_ciphertext_from_keys(u, x, keys_prime, keys_second):\n",
        "    ciphertexts = {}\n",
        "    plaintexts = {}\n",
        "    for kp in keys_prime:\n",
        "        ciphertexts[tuple(kp)] = encryption(u, kp)\n",
        "    for ks in keys_second:\n",
        "        plaintexts[tuple(ks)] = decryption(x, ks)\n",
        "    return ciphertexts, plaintexts"
      ]
    },
    {
      "cell_type": "code",
      "execution_count": 48,
      "metadata": {
        "id": "8cGXI8Jm4YDm"
      },
      "outputs": [],
      "source": [
        "def look_for_matches(generated_ciphertexts, generated_plaintexts):\n",
        "    matching_pairs = []\n",
        "    for ks in generated_ciphertexts.keys():\n",
        "        for kp in generated_plaintexts.keys():\n",
        "            if np.array_equal(generated_ciphertexts[ks], generated_plaintexts[kp]):\n",
        "                matching_pairs.append([{ks: generated_ciphertexts[ks]}, {kp: generated_plaintexts[kp]}])\n",
        "    return matching_pairs"
      ]
    },
    {
      "cell_type": "code",
      "execution_count": 49,
      "metadata": {
        "id": "EBwx9Wax4alG"
      },
      "outputs": [
        {
          "ename": "IndexError",
          "evalue": "index 4 is out of bounds for axis 0 with size 4",
          "output_type": "error",
          "traceback": [
            "\u001b[31m---------------------------------------------------------------------------\u001b[39m",
            "\u001b[31mIndexError\u001b[39m                                Traceback (most recent call last)",
            "\u001b[36mCell\u001b[39m\u001b[36m \u001b[39m\u001b[32mIn[49]\u001b[39m\u001b[32m, line 11\u001b[39m\n\u001b[32m      8\u001b[39m keys_prime, keys_second = generate_key_guesses(n_guesses)\n\u001b[32m     10\u001b[39m \u001b[38;5;66;03m# Generate encryption & decryption mappings\u001b[39;00m\n\u001b[32m---> \u001b[39m\u001b[32m11\u001b[39m generated_ciphertexts, generated_plaintexts = \u001b[43mgenerate_plaintext_ciphertext_from_keys\u001b[49m\u001b[43m(\u001b[49m\n\u001b[32m     12\u001b[39m \u001b[43m    \u001b[49m\u001b[43moriginal_plaintexts\u001b[49m\u001b[43m[\u001b[49m\u001b[32;43m0\u001b[39;49m\u001b[43m]\u001b[49m\u001b[43m,\u001b[49m\n\u001b[32m     13\u001b[39m \u001b[43m    \u001b[49m\u001b[43moriginal_ciphertexts\u001b[49m\u001b[43m[\u001b[49m\u001b[32;43m0\u001b[39;49m\u001b[43m]\u001b[49m\u001b[43m,\u001b[49m\n\u001b[32m     14\u001b[39m \u001b[43m    \u001b[49m\u001b[43mkeys_prime\u001b[49m\u001b[43m,\u001b[49m\n\u001b[32m     15\u001b[39m \u001b[43m    \u001b[49m\u001b[43mkeys_second\u001b[49m\n\u001b[32m     16\u001b[39m \u001b[43m)\u001b[49m\n\u001b[32m     18\u001b[39m \u001b[38;5;66;03m# Look for key matches\u001b[39;00m\n\u001b[32m     19\u001b[39m results = look_for_matches(generated_ciphertexts, generated_plaintexts)\n",
            "\u001b[36mCell\u001b[39m\u001b[36m \u001b[39m\u001b[32mIn[47]\u001b[39m\u001b[32m, line 5\u001b[39m, in \u001b[36mgenerate_plaintext_ciphertext_from_keys\u001b[39m\u001b[34m(u, x, keys_prime, keys_second)\u001b[39m\n\u001b[32m      3\u001b[39m plaintexts = {}\n\u001b[32m      4\u001b[39m \u001b[38;5;28;01mfor\u001b[39;00m kp \u001b[38;5;129;01min\u001b[39;00m keys_prime:\n\u001b[32m----> \u001b[39m\u001b[32m5\u001b[39m     ciphertexts[\u001b[38;5;28mtuple\u001b[39m(kp)] = \u001b[43mencryption\u001b[49m\u001b[43m(\u001b[49m\u001b[43mu\u001b[49m\u001b[43m,\u001b[49m\u001b[43m \u001b[49m\u001b[43mkp\u001b[49m\u001b[43m)\u001b[49m\n\u001b[32m      6\u001b[39m \u001b[38;5;28;01mfor\u001b[39;00m ks \u001b[38;5;129;01min\u001b[39;00m keys_second:\n\u001b[32m      7\u001b[39m     plaintexts[\u001b[38;5;28mtuple\u001b[39m(ks)] = decryption(x, ks)\n",
            "\u001b[36mCell\u001b[39m\u001b[36m \u001b[39m\u001b[32mIn[11]\u001b[39m\u001b[32m, line 2\u001b[39m, in \u001b[36mencryption\u001b[39m\u001b[34m(u, k)\u001b[39m\n\u001b[32m      1\u001b[39m \u001b[38;5;28;01mdef\u001b[39;00m\u001b[38;5;250m \u001b[39m\u001b[34mencryption\u001b[39m(u, k):\n\u001b[32m----> \u001b[39m\u001b[32m2\u001b[39m     subkey = \u001b[43msubkey_generation\u001b[49m\u001b[43m(\u001b[49m\u001b[43mk\u001b[49m\u001b[43m)\u001b[49m\n\u001b[32m      3\u001b[39m     w = u.copy()\n\u001b[32m      4\u001b[39m     \u001b[38;5;28;01mfor\u001b[39;00m i \u001b[38;5;129;01min\u001b[39;00m \u001b[38;5;28mrange\u001b[39m(n):\n",
            "\u001b[36mCell\u001b[39m\u001b[36m \u001b[39m\u001b[32mIn[6]\u001b[39m\u001b[32m, line 2\u001b[39m, in \u001b[36msubkey_generation\u001b[39m\u001b[34m(k)\u001b[39m\n\u001b[32m      1\u001b[39m \u001b[38;5;28;01mdef\u001b[39;00m\u001b[38;5;250m \u001b[39m\u001b[34msubkey_generation\u001b[39m(k):\n\u001b[32m----> \u001b[39m\u001b[32m2\u001b[39m     k1 = [k[\u001b[32m0\u001b[39m], k[\u001b[32m2\u001b[39m], \u001b[43mk\u001b[49m\u001b[43m[\u001b[49m\u001b[32;43m4\u001b[39;49m\u001b[43m]\u001b[49m, k[\u001b[32m6\u001b[39m]]\n\u001b[32m      3\u001b[39m     k2 = [k[\u001b[32m0\u001b[39m], k[\u001b[32m1\u001b[39m], k[\u001b[32m2\u001b[39m], k[\u001b[32m3\u001b[39m]]\n\u001b[32m      4\u001b[39m     k3 = [k[\u001b[32m0\u001b[39m], k[\u001b[32m3\u001b[39m], k[\u001b[32m4\u001b[39m], k[\u001b[32m7\u001b[39m]]\n",
            "\u001b[31mIndexError\u001b[39m: index 4 is out of bounds for axis 0 with size 4"
          ]
        }
      ],
      "source": [
        "# Define the filepath to the file containing plaintext-ciphertext pairs\n",
        "filepath = \"KPApairsH_non_linear.txt\"\n",
        "\n",
        "# Read the plaintext-ciphertext pairs from the file\n",
        "original_plaintexts, original_ciphertexts = read_pairs_from_file(filepath)\n",
        "\n",
        "# Generate random key guesses\n",
        "keys_prime, keys_second = generate_key_guesses(n_guesses)\n",
        "\n",
        "# Generate encryption & decryption mappings\n",
        "generated_ciphertexts, generated_plaintexts = generate_plaintext_ciphertext_from_keys(\n",
        "    original_plaintexts[0],\n",
        "    original_ciphertexts[0],\n",
        "    keys_prime,\n",
        "    keys_second\n",
        ")\n",
        "\n",
        "# Look for key matches\n",
        "results = look_for_matches(generated_ciphertexts, generated_plaintexts)\n",
        "\n",
        "print(f\"Found {len(results)} matching key pairs:\")\n",
        "for y, match in enumerate(results):\n",
        "    print(match)\n",
        "\n",
        "    k1 = match[y][0]\n",
        "    k2 = match[y][1]\n",
        "    for i in range(len(original_plaintexts)):\n",
        "        u = original_plaintexts[i]\n",
        "        x = original_ciphertexts[i]\n",
        "        # Encrypt the plaintext with the first key\n",
        "        encrypted_with_k1 = encryption(u, k1)\n",
        "        # Decrypt the ciphertext with the second key\n",
        "        encrypted_with_k2 = encryption(encrypted_with_k1, k2)\n",
        "        if np.array_equal(encrypted_with_k2, x):\n",
        "            print(f\"The key number {y + 1}  works for encrypt world number {i+1} of the given pairs\")\n",
        "        else:\n",
        "            print(f\"The key number {y + 1}  doesn't works for encrypt world number {i+1} of the given pairs\")\n",
        "        decrypted_with_k2 = decryption(x, k2)\n",
        "        decrypted_with_k1 = decryption(decrypted_with_k2, k1)\n",
        "        # Print the results\n",
        "        if np.array_equal(decrypted_with_k1, u):\n",
        "            print(f\"The key number {y + 1}  works for decrypt world number {i+1} of the given pairs\")\n",
        "        else:\n",
        "            print(f\"The key number {y + 1} doesn't works for decrypt world number {i+1} of the given pairs\")"
      ]
    },
    {
      "cell_type": "code",
      "execution_count": null,
      "metadata": {
        "id": "UrSBmhBo55-b"
      },
      "outputs": [],
      "source": []
    }
  ],
  "metadata": {
    "colab": {
      "provenance": []
    },
    "kernelspec": {
      "display_name": "Python 3",
      "name": "python3"
    },
    "language_info": {
      "codemirror_mode": {
        "name": "ipython",
        "version": 3
      },
      "file_extension": ".py",
      "mimetype": "text/x-python",
      "name": "python",
      "nbconvert_exporter": "python",
      "pygments_lexer": "ipython3",
      "version": "3.11.2"
    }
  },
  "nbformat": 4,
  "nbformat_minor": 0
}

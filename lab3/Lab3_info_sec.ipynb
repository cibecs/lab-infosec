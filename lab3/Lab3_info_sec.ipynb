{
  "cells": [
    {
      "cell_type": "markdown",
      "metadata": {
        "id": "WfgBUWwvEpx0"
      },
      "source": [
        "# LAB 3 - Information Security\n",
        "\n",
        "Members:\n",
        "* Andrea Andreozzi - 2163406\n",
        "* Riccardo Scalco - 2155352\n",
        "* Sergio Cibecchini - 2155353\n",
        "* Luca Ferrari - 2166294"
      ]
    },
    {
      "cell_type": "code",
      "execution_count": 1,
      "metadata": {
        "id": "JG-kkcYk81Su"
      },
      "outputs": [],
      "source": [
        "import time\n",
        "import matplotlib.pyplot as plt\n",
        "import numpy as np\n",
        "import random"
      ]
    },
    {
      "cell_type": "markdown",
      "metadata": {
        "id": "m6Fwt7KJE7kw"
      },
      "source": [
        "## Task 1"
      ]
    },
    {
      "cell_type": "markdown",
      "metadata": {
        "id": "78MnmUMIHwv-"
      },
      "source": [
        "We declare $M$ and $K$ ad the length of $u$ and $k$ respectively. We find at random $u$ and $k$ and then we compute $t$."
      ]
    },
    {
      "cell_type": "code",
      "execution_count": 2,
      "metadata": {
        "id": "r0k5BdryE7Ry"
      },
      "outputs": [],
      "source": [
        "M = 50\n",
        "K = 30"
      ]
    },
    {
      "cell_type": "code",
      "execution_count": 3,
      "metadata": {
        "colab": {
          "base_uri": "https://localhost:8080/"
        },
        "id": "wi4uiSmbEGiT",
        "outputId": "65163880-d47a-4eb2-9e98-8d8ee418a3cf"
      },
      "outputs": [
        {
          "name": "stdout",
          "output_type": "stream",
          "text": [
            "u: 10111011111011111110100110110111000101000010001100\n",
            "k: 010001010011111001000011001101\n"
          ]
        }
      ],
      "source": [
        "u = ''.join(random.choice(['0', '1']) for _ in range(M))\n",
        "k = ''.join(random.choice(['0', '1']) for _ in range(K))\n",
        "\n",
        "print(f\"u: {u}\")\n",
        "print(f\"k: {k}\")"
      ]
    },
    {
      "cell_type": "code",
      "execution_count": 4,
      "metadata": {
        "id": "bTqT5QOWKSGV"
      },
      "outputs": [],
      "source": [
        "def sum_digits(num):\n",
        "    return sum(int(digit) for digit in str(num))"
      ]
    },
    {
      "cell_type": "code",
      "execution_count": 5,
      "metadata": {
        "id": "ftbdC4-GLPow"
      },
      "outputs": [],
      "source": [
        "# t = T(k;u)\n",
        "def generate_tag(u, k):\n",
        "    int_u = int(u, 2)\n",
        "    int_k = int(k, 2)\n",
        "\n",
        "    somma_u = sum_digits(int_u)\n",
        "    somma_k = sum_digits(int_k)\n",
        "\n",
        "    t = somma_u * somma_k\n",
        "    t = bin(t)[2:]\n",
        "    return t"
      ]
    },
    {
      "cell_type": "code",
      "execution_count": 6,
      "metadata": {
        "id": "MYz0DUCmKWQY"
      },
      "outputs": [],
      "source": [
        "# x = append (u,t)\n",
        "def sign_message(u, k):\n",
        "    t = generate_tag(u, k)\n",
        "    x = str(u) + str(t)\n",
        "    return x"
      ]
    },
    {
      "cell_type": "code",
      "execution_count": null,
      "metadata": {
        "id": "GwHqxmn3MlW2"
      },
      "outputs": [],
      "source": [
        "def verify_tag(x, k):\n",
        "    u_received = x[:M]\n",
        "    t_received = x[M:]\n",
        "    t = generate_tag(u_received, k)\n",
        "    b = t_received != t\n",
        "    return u_received, int(b)"
      ]
    },
    {
      "cell_type": "code",
      "execution_count": 8,
      "metadata": {
        "colab": {
          "base_uri": "https://localhost:8080/"
        },
        "id": "O2kBkTOCMoBR",
        "outputId": "558363bd-60b2-4fe9-a0c5-15c2f3a0e7c6"
      },
      "outputs": [
        {
          "name": "stdout",
          "output_type": "stream",
          "text": [
            "x: 10111011111011111110100110110111000101000010001100101101000110\n",
            "u_received: 10111011111011111110100110110111000101000010001100\n",
            "b: 0 (0 -> correct, 1 -> incorrect)\n"
          ]
        }
      ],
      "source": [
        "x = sign_message(u, k)\n",
        "print(f\"x: {x}\")\n",
        "u_received, b = verify_tag(x, k)\n",
        "print(f\"u_received: {u_received}\")\n",
        "print(f\"b: {b} (0 -> correct, 1 -> incorrect)\")"
      ]
    },
    {
      "cell_type": "markdown",
      "metadata": {
        "id": "7i4Jexzl74j-"
      },
      "source": [
        "PLOT 1: fixed $K=5000$ bits, variable length of $M$."
      ]
    },
    {
      "cell_type": "code",
      "execution_count": 9,
      "metadata": {
        "id": "4Qly1zyoB9mn"
      },
      "outputs": [],
      "source": [
        "def computational_evaluation(u, k, num_iterations):\n",
        "    total_send_time = 0\n",
        "    total_received_time = 0\n",
        "    for _ in range(num_iterations):\n",
        "        start_time = time.time()\n",
        "        x = sign_message(u, k)\n",
        "        end_time = time.time()\n",
        "        total_send_time += end_time - start_time\n",
        "        start_time = time.time()\n",
        "        u_received, b = verify_tag(x, k)\n",
        "        end_time = time.time()\n",
        "        total_received_time += end_time - start_time\n",
        "\n",
        "    return total_send_time / num_iterations, total_received_time / num_iterations"
      ]
    },
    {
      "cell_type": "code",
      "execution_count": 10,
      "metadata": {
        "id": "P57EK5lIDjPx"
      },
      "outputs": [],
      "source": [
        "def plot_computational_evaluation(send_times, received_times, format_string):\n",
        "    # Plotting\n",
        "    fig, (ax1, ax2) = plt.subplots(1, 2, figsize=(14, 6))\n",
        "    message_sizes = list(send_times.keys())\n",
        "    send_avg_times = list(send_times.values())\n",
        "    received_avg_times = list(received_times.values())\n",
        "\n",
        "    # Send times plot\n",
        "    ax1.plot(message_sizes, send_avg_times, '-o', label='Send Time', color='tab:blue')\n",
        "    ax1.set_title(f'Average Send Time vs {format_string} Size')\n",
        "    ax1.set_xlabel(f'{format_string} Size (bits)')\n",
        "    ax1.set_ylabel('Average Time (seconds)')\n",
        "    ax1.grid(True)\n",
        "    ax1.legend()\n",
        "\n",
        "    # Received times plot\n",
        "    ax2.plot(message_sizes, received_avg_times, '-o', label='Verify Time', color='tab:green')\n",
        "    ax2.set_title(f'Average Verification Time vs {format_string} Size')\n",
        "    ax2.set_xlabel(f'{format_string} Size (bits)')\n",
        "    ax2.set_ylabel('Average Time (seconds)')\n",
        "    ax2.grid(True)\n",
        "    ax2.legend()\n",
        "\n",
        "    plt.tight_layout()\n",
        "    plt.show()"
      ]
    },
    {
      "cell_type": "code",
      "execution_count": 11,
      "metadata": {
        "colab": {
          "base_uri": "https://localhost:8080/",
          "height": 1000
        },
        "id": "V7bhHQ8M74B5",
        "outputId": "94a38d39-fb76-4593-fecb-d1f46c5394f9"
      },
      "outputs": [],
      "source": [
        "num_iterations = 100\n",
        "\n",
        "K = 5000\n",
        "k = ''.join(random.choice(['0', '1']) for _ in range(K))\n",
        "send_times = {}\n",
        "received_times = {}\n",
        "for M in range(100, 10001, 100):\n",
        "    u = ''.join(random.choice(['0', '1']) for _ in range(M))\n",
        "    send_time, received_time = computational_evaluation(u, k, num_iterations)\n",
        "    send_times[M] = send_time\n",
        "    received_times[M] = received_time\n",
        "#plot_computational_evaluation(send_times, received_times, \"Message\")\n",
        "\n",
        "M = 5000\n",
        "u = ''.join(random.choice(['0', '1']) for _ in range(M))\n",
        "send_times = {}\n",
        "received_times = {}\n",
        "for K in range(100, 10001, 100):\n",
        "    k = ''.join(random.choice(['0', '1']) for _ in range(K))\n",
        "    send_time, received_time = computational_evaluation(u, k, num_iterations)\n",
        "    send_times[K] = send_time\n",
        "    received_times[K] = received_time\n",
        "#plot_computational_evaluation(send_times, received_times, \"Key\")"
      ]
    },
    {
      "cell_type": "markdown",
      "metadata": {
        "id": "02-Uj4BnTqYS"
      },
      "source": [
        "## TASK 2"
      ]
    },
    {
      "cell_type": "code",
      "execution_count": 12,
      "metadata": {
        "colab": {
          "base_uri": "https://localhost:8080/"
        },
        "id": "34kftdZNXs9C",
        "outputId": "11b6bf52-660c-47ee-8113-b17de499da61"
      },
      "outputs": [
        {
          "name": "stdout",
          "output_type": "stream",
          "text": [
            "u: 01101110100000101011001011000000100000000100010110\n",
            "k: 101110011111001011000101101000\n"
          ]
        }
      ],
      "source": [
        "M = 50\n",
        "K = 30\n",
        "\n",
        "new_u = ''.join(random.choice(['0', '1']) for _ in range(M))\n",
        "\n",
        "u = ''.join(random.choice(['0', '1']) for _ in range(M))\n",
        "k = ''.join(random.choice(['0', '1']) for _ in range(K))\n",
        "\n",
        "x = sign_message(u,k)\n",
        "\n",
        "print(f\"u: {u}\")\n",
        "print(f\"k: {k}\")"
      ]
    },
    {
      "cell_type": "code",
      "execution_count": 13,
      "metadata": {
        "id": "KcXS4EWbQ4cS"
      },
      "outputs": [],
      "source": [
        "def substitution_attack(x, new_u):\n",
        "    u_received = x[:M]\n",
        "    t_received = x[M:]\n",
        "\n",
        "    u = int(u_received, 2)\n",
        "    t = int(t_received, 2)\n",
        "\n",
        "    sum_u = sum_digits(u)\n",
        "\n",
        "    coeff = int(t / sum_u)\n",
        "\n",
        "    sum_new_u = sum_digits(int(new_u, 2))\n",
        "    new_tag = coeff * sum_new_u\n",
        "    new_tag = bin(new_tag)[2:]\n",
        "    x_new  = str(new_u) + str(new_tag)\n",
        "    return x_new"
      ]
    },
    {
      "cell_type": "code",
      "execution_count": 14,
      "metadata": {
        "colab": {
          "base_uri": "https://localhost:8080/"
        },
        "id": "CYDSzNpSXk6N",
        "outputId": "d7e57b9f-2bff-41c6-ec46-0d754bb91f25"
      },
      "outputs": [
        {
          "name": "stdout",
          "output_type": "stream",
          "text": [
            "new_x: 00101100000111101111011111011100000111000000110100110011001100\n",
            "u_received: 00101100000111101111011111011100000111000000110100\n",
            "b: 0 (0 -> correct, 1 -> incorrect)\n"
          ]
        }
      ],
      "source": [
        "new_x = substitution_attack(x, new_u)\n",
        "print(f\"new_x: {new_x}\")\n",
        "u_received, b = verify_tag(new_x, k)\n",
        "print(f\"u_received: {u_received}\")\n",
        "print(f\"b: {b} (0 -> correct, 1 -> incorrect)\")"
      ]
    },
    {
      "cell_type": "markdown",
      "metadata": {},
      "source": [
        "## TASK 3"
      ]
    },
    {
      "cell_type": "code",
      "execution_count": 33,
      "metadata": {
        "id": "r6eSyrKcLiBp"
      },
      "outputs": [
        {
          "data": {
            "image/png": "[encoded data removed]",
            "text/plain": [
              "<Figure size 2000x1000 with 1 Axes>"
            ]
          },
          "metadata": {},
          "output_type": "display_data"
        }
      ],
      "source": [
        "from collections import Counter\n",
        "\n",
        "def compute_digit_sums(N):\n",
        "    if N < 0:\n",
        "        raise ValueError(\"N must be non-negative\")\n",
        "\n",
        "    max_val = 2 ** N\n",
        "    digit_sums = []\n",
        "    for i in range(max_val):\n",
        "        base10_digits = str(i)\n",
        "        digit_sum = sum(int(d) for d in base10_digits)\n",
        "        digit_sums.append(digit_sum)\n",
        "    return digit_sums\n",
        "\n",
        "def plot_distribution(digit_sums):\n",
        "    counts = Counter(digit_sums)\n",
        "    x = sorted(counts.keys())\n",
        "    y = [counts[val] for val in x]\n",
        "\n",
        "    plt.figure(figsize=(20,10))\n",
        "    plt.bar(x, y)\n",
        "    plt.xlabel(\"Digit Sum\")\n",
        "    plt.ylabel(\"Frequency\")\n",
        "    plt.title(\"Distribution of Digit Sums for N-bit Binary Numbers\")\n",
        "    plt.xticks(x)  # Ensure all x-axis labels are shown\n",
        "    plt.grid(True, axis='y', linestyle='--', alpha=0.7)\n",
        "    plt.tight_layout()\n",
        "    plt.show()\n",
        "\n",
        "\n",
        "# Example usage\n",
        "if __name__ == \"__main__\":\n",
        "    N = 10  # change as needed\n",
        "    digit_sums = compute_digit_sums(N)\n",
        "    plot_distribution(digit_sums)\n"
      ]
    },
    {
      "cell_type": "code",
      "execution_count": 76,
      "metadata": {},
      "outputs": [
        {
          "name": "stdout",
          "output_type": "stream",
          "text": [
            "u:10110111110110010001010001111010011101010110010011\n",
            "k:0010100010 - k_decimal:162 - k_decimal_sum: 9\n",
            "Correct tag: 1001010010\n"
          ]
        }
      ],
      "source": [
        "M = 50\n",
        "K = 10\n",
        "k = ''.join(random.choice(['0', '1']) for _ in range(K))\n",
        "u = ''.join(random.choice(['0', '1']) for _ in range(M))\n",
        "\n",
        "print(f\"u:{u}\")\n",
        "print(f\"k:{k} - k_decimal:{int(k,2)} - k_decimal_sum: {sum_digits(int(k,2))}\")\n",
        "print(f\"Correct tag: {generate_tag(u,k)}\")"
      ]
    },
    {
      "cell_type": "code",
      "execution_count": 77,
      "metadata": {},
      "outputs": [],
      "source": [
        "def find_maximum(K):\n",
        "    n = 2 ** K\n",
        "    n = str(n)\n",
        "    digits = [int(d) for d in n]\n",
        "    for i in range(len(digits) - 1 , 0, -1):\n",
        "        digits[i] = 9\n",
        "    digits[i-1] -= 1\n",
        "    \n",
        "    digits = [str(d) for d in digits]\n",
        "    digits = ''.join(digits)    \n",
        "    return int(digits)"
      ]
    },
    {
      "cell_type": "code",
      "execution_count": 80,
      "metadata": {},
      "outputs": [],
      "source": [
        "def forging_attack(u_forged, K):\n",
        "    max_value = sum_digits(find_maximum(K))\n",
        "    prob_value = int(max_value / 2)\n",
        "    u_sum = sum_digits(int(u_forged, 2))\n",
        "    print(f\"u_sum: {u_sum}\")\n",
        "    for i in range(prob_value + 1):\n",
        "        send_forged_message(u_forged, u_sum, prob_value + i)\n",
        "        send_forged_message(u_forged, u_sum, prob_value - i)\n",
        "\n",
        "\n",
        "def send_forged_message(u_forged, u_sum, key_value):\n",
        "    t_forged = u_sum * (key_value) \n",
        "    new_tag = bin(t_forged)[2:]\n",
        "    print(new_tag)\n",
        "    x_new  = str(u_forged) + str(new_tag)\n",
        "    u_received, b = verify_tag(x_new, k)\n",
        "    print(key_value)\n",
        "    if b == 0:\n",
        "        print(f\"u_forged: {u_forged}\")\n",
        "        print(f\"x_new: {x_new}\")\n",
        "        print(f\"b: {b} (0 -> correct, 1 -> incorrect)\")\n",
        "        return True\n",
        "    return False"
      ]
    },
    {
      "cell_type": "code",
      "execution_count": 81,
      "metadata": {},
      "outputs": [
        {
          "name": "stdout",
          "output_type": "stream",
          "text": [
            "u_sum: 66\n",
            "1101011010\n",
            "13\n",
            "1101011010\n",
            "13\n",
            "1110011100\n",
            "14\n",
            "1100011000\n",
            "12\n",
            "1111011110\n",
            "15\n",
            "1011010110\n",
            "11\n",
            "10000100000\n",
            "16\n",
            "1010010100\n",
            "10\n",
            "10001100010\n",
            "17\n",
            "1001010010\n",
            "9\n",
            "u_forged: 10110111110110010001010001111010011101010110010011\n",
            "x_new: 101101111101100100010100011110100111010101100100111001010010\n",
            "b: 0 (0 -> correct, 1 -> incorrect)\n",
            "10010100100\n",
            "18\n",
            "1000010000\n",
            "8\n",
            "10011100110\n",
            "19\n",
            "111001110\n",
            "7\n",
            "10100101000\n",
            "20\n",
            "110001100\n",
            "6\n",
            "10101101010\n",
            "21\n",
            "101001010\n",
            "5\n",
            "10110101100\n",
            "22\n",
            "100001000\n",
            "4\n",
            "10111101110\n",
            "23\n",
            "11000110\n",
            "3\n",
            "11000110000\n",
            "24\n",
            "10000100\n",
            "2\n",
            "11001110010\n",
            "25\n",
            "1000010\n",
            "1\n",
            "11010110100\n",
            "26\n",
            "0\n",
            "0\n"
          ]
        }
      ],
      "source": [
        "forging_attack(u, K)"
      ]
    },
    {
      "cell_type": "code",
      "execution_count": null,
      "metadata": {},
      "outputs": [],
      "source": []
    }
  ],
  "metadata": {
    "colab": {
      "provenance": []
    },
    "kernelspec": {
      "display_name": ".venv",
      "language": "python",
      "name": "python3"
    },
    "language_info": {
      "codemirror_mode": {
        "name": "ipython",
        "version": 3
      },
      "file_extension": ".py",
      "mimetype": "text/x-python",
      "name": "python",
      "nbconvert_exporter": "python",
      "pygments_lexer": "ipython3",
      "version": "3.13.2"
    }
  },
  "nbformat": 4,
  "nbformat_minor": 0
}

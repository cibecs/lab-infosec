{
 "cells": [
  {
   "cell_type": "markdown",
   "id": "0cbdf98f",
   "metadata": {},
   "source": [
    "# LAB 3 - Information Security\n",
    "\n",
    "Members:\n",
    "* Andrea Andreozzi - 2163406\n",
    "* Riccardo Scalco - 2155352\n",
    "* Sergio Cibecchini - 2155353\n",
    "* Luca Ferrari - 2166294"
   ]
  },
  {
   "cell_type": "code",
   "execution_count": 25,
   "id": "f1d2759a",
   "metadata": {},
   "outputs": [],
   "source": [
    "import numpy as np\n",
    "\n",
    "import itertools\n",
    "import matplotlib.pyplot as plt\n",
    "\n",
    "import seaborn as sns\n",
    "import numpy as np\n",
    "import pandas as pd\n",
    "\n",
    "from collections import Counter, defaultdict\n",
    "import math"
   ]
  },
  {
   "cell_type": "code",
   "execution_count": 26,
   "id": "af09c2bd",
   "metadata": {},
   "outputs": [],
   "source": [
    "MAX_ERRORS_CHANNEL = 1\n",
    "INPUT_LENGTH = 7"
   ]
  },
  {
   "cell_type": "code",
   "execution_count": 27,
   "id": "ed643f68",
   "metadata": {},
   "outputs": [],
   "source": [
    "def generate_binary_vector(n):\n",
    "    return np.random.randint(0, 2, n).tolist()"
   ]
  },
  {
   "cell_type": "code",
   "execution_count": 28,
   "id": "7d8c8ae7",
   "metadata": {},
   "outputs": [],
   "source": [
    "#from lab2\n",
    "def generateAllErrors(num_bits, max_errors):\n",
    "    if max_errors > num_bits or max_errors < 1:\n",
    "        raise ValueError(\"max_errors must be between 1 and num_bits inclusive.\")\n",
    "\n",
    "    error_patterns = []\n",
    "    for error_count in range(0, max_errors + 1):\n",
    "        for positions in itertools.combinations(range(num_bits), error_count):\n",
    "            error = [0] * num_bits\n",
    "            for pos in positions:\n",
    "                error[pos] = 1\n",
    "            error_patterns.append(error)\n",
    "\n",
    "    return error_patterns"
   ]
  },
  {
   "cell_type": "code",
   "execution_count": 29,
   "id": "f6341973",
   "metadata": {},
   "outputs": [],
   "source": [
    "def xor_between_vectors(a, b):\n",
    "    if len(a) != len(b):\n",
    "        raise ValueError(\"Array length should be equal\")\n",
    "    result = [x ^ y for x, y in zip(a, b)]\n",
    "    return result"
   ]
  },
  {
   "cell_type": "code",
   "execution_count": 30,
   "id": "cc72b3e9",
   "metadata": {},
   "outputs": [],
   "source": [
    "def are_the_same_array_index(a, all_errors):\n",
    "    for i in range(len(all_errors)):\n",
    "        if len(a) != len(all_errors[i]):\n",
    "            raise ValueError(\"Array length should be equal\")\n",
    "        for k in range(len(a)):\n",
    "            if a[k].any() == all_errors[i][k].any():\n",
    "                return i\n",
    "    return -1"
   ]
  },
  {
   "cell_type": "code",
   "execution_count": 31,
   "id": "dfeaa11e",
   "metadata": {},
   "outputs": [],
   "source": [
    "def getRandomElement(vector):\n",
    "    return vector[np.random.randint(len(vector))]"
   ]
  },
  {
   "cell_type": "code",
   "execution_count": null,
   "id": "e04b0e5f",
   "metadata": {},
   "outputs": [],
   "source": [
    "#C_A''\n",
    "def wiretap_channel(input):\n",
    "    return xor_between_vectors(input, getRandomElement(generateAllErrors(INPUT_LENGTH, MAX_ERRORS_CHANNEL))) "
   ]
  },
  {
   "cell_type": "markdown",
   "metadata": {},
   "source": [
    "### TASK 1"
   ]
  },
  {
   "cell_type": "code",
   "execution_count": null,
   "id": "cb202857",
   "metadata": {},
   "outputs": [
    {
     "name": "stdout",
     "output_type": "stream",
     "text": [
      "Input (x): [0, 1, 0, 1, 0, 0, 0]\n",
      "Output for b (y): [0, 1, 0, 1, 0, 0, 1]\n",
      "Output for e (z): [0, 1, 1, 1, 0, 0, 0]\n"
     ]
    }
   ],
   "source": [
    "x = generate_binary_vector(INPUT_LENGTH)\n",
    "#legitimate channel\n",
    "y = wiretap_channel(x) #output for bob\n",
    "z = wiretap_channel(x) #output for eve\n",
    "print(\"Input (x):\", x)\n",
    "print(\"Output for b (y):\", y)\n",
    "print(\"Output for e (z):\", z)"
   ]
  },
  {
   "cell_type": "markdown",
   "metadata": {},
   "source": [
    "### TASK 2"
   ]
  },
  {
   "cell_type": "code",
   "execution_count": null,
   "metadata": {},
   "outputs": [],
   "source": [
    "H = [\n",
    "    [1, 0, 0, 0, 1, 1, 1],\n",
    "    [0, 1, 0, 1, 0, 1, 1],\n",
    "    [0, 0, 1, 1, 1, 0, 1]\n",
    "]"
   ]
  },
  {
   "cell_type": "code",
   "execution_count": null,
   "id": "a2dafc20",
   "metadata": {},
   "outputs": [],
   "source": [
    "#c''=H * x'^T\n",
    "def calculate_c_prime(x):\n",
    "    c_prime = []\n",
    "    for row in H:\n",
    "        c_prime.append(sum(row[i] * x[i] for i in range(len(x))) % 2)\n",
    "    return c_prime"
   ]
  },
  {
   "cell_type": "code",
   "execution_count": null,
   "metadata": {},
   "outputs": [],
   "source": [
    "#bob use hamming 7,4 to correct max 1 error, same eve. formward all want y"
   ]
  },
  {
   "cell_type": "code",
   "execution_count": null,
   "metadata": {},
   "outputs": [],
   "source": [
    "#reverse 2 error in syndrome so cant eve correct it. Reverse all wanna x. Bad case 1 err eve can correct aniway.\n",
    "#public channel for syndrome dont introduce errors = cablato, quello non public è wireless \n",
    "# come correggere chiave su public channel."
   ]
  },
  {
   "cell_type": "code",
   "execution_count": null,
   "metadata": {},
   "outputs": [],
   "source": []
  }
 ],
 "metadata": {
  "kernelspec": {
   "display_name": ".venv",
   "language": "python",
   "name": "python3"
  },
  "language_info": {
   "codemirror_mode": {
    "name": "ipython",
    "version": 3
   },
   "file_extension": ".py",
   "mimetype": "text/x-python",
   "name": "python",
   "nbconvert_exporter": "python",
   "pygments_lexer": "ipython3",
   "version": "3.13.2"
  }
 },
 "nbformat": 4,
 "nbformat_minor": 5
}

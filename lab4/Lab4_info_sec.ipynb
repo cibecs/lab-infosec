{
 "cells": [
  {
   "cell_type": "markdown",
   "id": "0cbdf98f",
   "metadata": {},
   "source": [
    "# LAB 3 - Information Security\n",
    "\n",
    "Members:\n",
    "* Andrea Andreozzi - 2163406\n",
    "* Riccardo Scalco - 2155352\n",
    "* Sergio Cibecchini - 2155353\n",
    "* Luca Ferrari - 2166294"
   ]
  },
  {
   "cell_type": "code",
   "execution_count": null,
   "id": "f1d2759a",
   "metadata": {},
   "outputs": [],
   "source": [
    "import numpy as np\n",
    "\n",
    "import itertools\n",
    "import matplotlib.pyplot as plt\n",
    "\n",
    "import seaborn as sns\n",
    "import pandas as pd\n",
    "from collections import Counter, defaultdict\n",
    "import math"
   ]
  },
  {
   "cell_type": "code",
   "execution_count": null,
   "id": "af09c2bd",
   "metadata": {},
   "outputs": [],
   "source": [
    "MAX_ERRORS_CHANNEL = 1\n",
    "NUM_BITS = 7"
   ]
  },
  {
   "cell_type": "code",
   "execution_count": null,
   "id": "7d8c8ae7",
   "metadata": {},
   "outputs": [],
   "source": [
    "def generateAllErrors(num_bits, max_errors):\n",
    "    if max_errors > num_bits or max_errors < 1:\n",
    "        raise ValueError(\"max_errors must be between 1 and num_bits inclusive.\")\n",
    "\n",
    "    error_patterns = []\n",
    "    for error_count in range(0, max_errors + 1):\n",
    "        for positions in itertools.combinations(range(num_bits), error_count):\n",
    "            error = [0] * num_bits\n",
    "            for pos in positions:\n",
    "                error[pos] = 1\n",
    "            error_patterns.append(error)\n",
    "\n",
    "    return np.array(error_patterns)"
   ]
  },
  {
   "cell_type": "code",
   "execution_count": null,
   "id": "f6341973",
   "metadata": {},
   "outputs": [],
   "source": [
    "def xor_between_vectors(a, b):\n",
    "    if len(a) != len(b):\n",
    "        raise ValueError(\"Array length should be equal\")\n",
    "    result = [x ^ y for x, y in zip(a, b)]\n",
    "    return result"
   ]
  },
  {
   "cell_type": "code",
   "execution_count": null,
   "id": "dee1785e",
   "metadata": {
    "vscode": {
     "languageId": "plaintext"
    }
   },
   "outputs": [],
   "source": []
  }
 ],
 "metadata": {
  "language_info": {
   "name": "python"
  }
 },
 "nbformat": 4,
 "nbformat_minor": 5
}
